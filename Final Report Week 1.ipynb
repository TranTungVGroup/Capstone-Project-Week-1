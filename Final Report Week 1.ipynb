{
    "cells": [
        {
            "cell_type": "markdown",
            "metadata": {
                "collapsed": true
            },
            "source": "# Apartment Sales Prices & Venues Data Analysis of HaNoi, VietNam"
        },
        {
            "cell_type": "markdown",
            "metadata": {},
            "source": "## A. Introduction"
        },
        {
            "cell_type": "markdown",
            "metadata": {},
            "source": "### A.1. Description & Disscusion of the Background"
        },
        {
            "cell_type": "markdown",
            "metadata": {},
            "source": "Hanoi is the capital of Vietnam. It covers an area of 3,328.9 square kilometres (1,285 sq mi). With an estimated population of 8.1 million as of 2019, it is the second largest city in Vietnam. The metropolitan area, encompassing nine additional neighbouring provinces, has an estimated population of 16 million. Located in the central area of the Red River Delta, Hanoi is the commercial, cultural, and educational centre of Northern Vietnam. Having an estimated nominal GDP of US$32.8 billion, it is the second most productive economic centre of Vietnam, following Ho Chi Minh City.\n\nOriginally a small settlement along the banks of the Red River, the city was founded as Th\u0103ng Long, the capital of Imperial Vietnam, in 1010 by monarch L\u00fd Th\u00e1i T\u1ed5. Th\u0103ng Long would remain the most important political and cultural centre of Vietnam until 1802, when the Nguy\u1ec5n dynasty, the last imperial dynasty of Vietnam, moved the capital to Hu\u1ebf. Th\u0103ng Long renamed to its current name Hanoi in 1831. In 1873, Hanoi was conquered by the French, and from 1883 to 1945, the city was the administrative centre of French Indochina. The French colonisation left a lasting impact on the city's architecture that is visible today, as showcased through the juxtaposition of French-styled avenues, bridges, buildings, and traditional Vietnamese architecture. [1]\n\nAs you can see from the wiki, Hanoi is a city with a high population and population density as 2,400/km2. As __Newcomer__ to the city, we may want to __purchase an apartment__ for planned long stay in the regions where real estate values are lower. At the same time, we may want to choose the district according to the social places density. And by this report we hope we can capture some remarkable points in this direction.\n\nCurrently, Hanoi is divided into 12 districts, 17 rural districts and one town. In this report, we will forcus on only __12 main district__ of Hanoi using a map and information chart where the real estate index is placed on this city and each district is clustered according to the venue density"
        },
        {
            "cell_type": "markdown",
            "metadata": {},
            "source": "### A.2. Data Description"
        },
        {
            "cell_type": "markdown",
            "metadata": {},
            "source": "To consider the problem we can list the datas as below:"
        },
        {
            "cell_type": "markdown",
            "metadata": {},
            "source": "* I collect coordinates of all 12 Boroughs (districts) via geopy and used it to create choropleth map of Apartment Sales Price Index of Hanoi.\n* I used Forsquare API to get the most common venues of given Borough (district) of Hanoi [2].\n* I collected latest per square meter Apartment Sales Price (ASP) () Averages for each Borough of Hanoi from real estate web page [3]."
        },
        {
            "cell_type": "markdown",
            "metadata": {},
            "source": "## G. References"
        },
        {
            "cell_type": "markdown",
            "metadata": {},
            "source": "1. [Hanoi - Wiki](https://en.wikipedia.org/wiki/Hanoi).\n2. [Forsquare API](https://developer.foursquare.com/)\n3. [Apartment average price](https://mogi.vn/gia-nha-dat)"
        }
    ],
    "metadata": {
        "kernelspec": {
            "display_name": "Python 3.6",
            "language": "python",
            "name": "python3"
        },
        "language_info": {
            "codemirror_mode": {
                "name": "ipython",
                "version": 3
            },
            "file_extension": ".py",
            "mimetype": "text/x-python",
            "name": "python",
            "nbconvert_exporter": "python",
            "pygments_lexer": "ipython3",
            "version": "3.6.9"
        }
    },
    "nbformat": 4,
    "nbformat_minor": 1
}